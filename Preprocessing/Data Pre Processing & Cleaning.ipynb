{
 "cells": [
  {
   "cell_type": "markdown",
   "metadata": {},
   "source": [
    "# Data Pre Processing"
   ]
  },
  {
   "cell_type": "code",
   "execution_count": 1,
   "metadata": {},
   "outputs": [],
   "source": [
    "import findspark\n",
    "findspark.init()"
   ]
  },
  {
   "cell_type": "code",
   "execution_count": 2,
   "metadata": {},
   "outputs": [],
   "source": [
    "from pyspark.sql import SparkSession\n",
    "spark = SparkSession \\\n",
    "    .builder \\\n",
    "    .appName(\"Python Spark SQL basic\") \\\n",
    "    .getOrCreate()"
   ]
  },
  {
   "cell_type": "code",
   "execution_count": 3,
   "metadata": {},
   "outputs": [
    {
     "name": "stdout",
     "output_type": "stream",
     "text": [
      "+--------------------+----+-------------------+-----+--------------------+-----+--------------------+------+--------------------+\n",
      "|         business_id|cool|               date|funny|           review_id|stars|                text|useful|             user_id|\n",
      "+--------------------+----+-------------------+-----+--------------------+-----+--------------------+------+--------------------+\n",
      "|ujmEBvifdJM6h6RLv...|   0|2013-05-07 04:34:36|    1|Q1sbwvVQXV2734tPg...|  1.0|Total bill for th...|     6|hG7b0MtEbXx5QzbzE...|\n",
      "|NZnhc2sEQy3RmzKTZ...|   0|2017-01-14 21:30:33|    0|GJXCdrto3ASJOqKeV...|  5.0|I *adore* Travis ...|     0|yXQM5uF2jS6es16SJ...|\n",
      "|WTqjgwHlXbSFevF32...|   0|2016-11-09 20:09:03|    0|2TzJjDVDEuAW6MR5V...|  5.0|I have to say tha...|     3|n6-Gk65cPZL6Uz8qR...|\n",
      "|ikCg8xy5JIg_NGPx-...|   0|2018-01-09 20:56:38|    0|yi0R0Ugj_xUx_Nek0...|  5.0|Went in for a lun...|     0|dacAIZ6fTM6mqwW5u...|\n",
      "|b1b1eb3uo-w561D0Z...|   0|2018-01-30 23:07:38|    0|11a8sVPMUFtaC7_AB...|  1.0|Today was my seco...|     7|ssoyf2_x0EQMed6fg...|\n",
      "|eU_713ec6fTGNO4Be...|   0|2013-01-20 13:25:59|    0|fdiNeiN_hoCxCMy2w...|  4.0|I'll be the first...|     0|w31MKYsNFMrjhWxxA...|\n",
      "|3fw2X5bZYeW9xCz_z...|   5|2016-05-07 01:21:02|    4|G7XHMxG0bx9oBJNEC...|  3.0|Tracy dessert had...|     5|jlu4CztcSxrKx56ba...|\n",
      "|zvO-PJCpNk4fgAVUn...|   1|2010-10-05 19:12:35|    1|8e9HxxLjjqc9ez5ez...|  1.0|This place has go...|     3|d6xvYpyzcfbF_AZ8v...|\n",
      "|b2jN2mm9Wf3RcrZCg...|   0|2015-01-18 14:04:18|    0|qrffudO73zsslZbe8...|  2.0|I was really look...|     1|sG_h0dIzTKWa3Q6fm...|\n",
      "|oxwGyA17NL6c5t1Et...|   1|2012-02-29 21:52:43|    0|RS_GTIT6836bCaPy6...|  3.0|It's a giant Best...|     1|nMeCE5-xsdleyxYuN...|\n",
      "|8mIrX_LrOnAqWsB5J...|   0|2011-11-30 02:11:15|    0|kbtscdyz6lvrtGjD1...|  4.0|Like walking back...|     0|FIk4lQQu1eTe2EpzQ...|\n",
      "|mRUVMJkUGxrByzMQ2...|   0|2017-12-15 23:27:08|    1|-I5umRTkhw15RqpKM...|  1.0|Walked in around ...|     0|-mA3-1mN4JIEkqOtd...|\n",
      "|FxLfqxdYPA6Z85PFK...|   0|2016-05-07 01:36:53|    0|Z7wgXp98wYB57QdRY...|  4.0|Wow. So surprised...|     0|GYNnVehQeXjty0xH7...|\n",
      "|LUN6swQYa4xJKaM_U...|   0|2018-04-27 20:25:26|    0|qlXw1JQ0UodW7qrmV...|  4.0|Michael from Red ...|     0|bAhqAPoWaZYcyYi7b...|\n",
      "|AakkkTuGZA2KBodKi...|   0|2012-07-16 00:37:14|    1|JVcjMhlavKKn3UIt9...|  1.0|I cannot believe ...|     1|TpyOT5E16YASd7EWj...|\n",
      "|YvrylyuWgbP90RgMq...|   0|2017-04-07 21:27:49|    0|svK3nBU7Rk8VfGorl...|  5.0|You can't really ...|     0|NJlxGtouq06hhC7sS...|\n",
      "|NyLYY8q1-H3hfsTwu...|   0|2015-01-03 22:47:34|    0|1wVA2-vQIuW_ClmXk...|  4.0|Great lunch today...|     0|86J5DwcFk4f4In1Vx...|\n",
      "|cHdJXLlKNWixBXpDw...|   1|2015-04-01 16:30:00|    7|6BnQwlxRn7ZuWdzni...|  3.0|I love chinese fo...|     1|JSrP-dUmLlwZiI7Dp...|\n",
      "|6lj2BJ4tJeu7db5as...|   0|2017-05-26 01:23:19|    0|rEITo90tpyKmEfNDp...|  5.0|We've been a huge...|     0|6Fz_nus_OG4gar721...|\n",
      "|y-Iw6dZflNix4BdwI...|   0|2014-06-27 21:19:23|    0|4bUyL7lzoWzDZaJET...|  3.0|Good selection of...|     0|_N7Ndn29bpll_961o...|\n",
      "+--------------------+----+-------------------+-----+--------------------+-----+--------------------+------+--------------------+\n",
      "only showing top 20 rows\n",
      "\n"
     ]
    }
   ],
   "source": [
    "df = spark.read.json('C:\\opt\\FP-Big-Data\\Dataset/review.json')\n",
    "df.show()"
   ]
  },
  {
   "cell_type": "code",
   "execution_count": 4,
   "metadata": {},
   "outputs": [],
   "source": [
    "df.createOrReplaceTempView(\"business\")"
   ]
  },
  {
   "cell_type": "code",
   "execution_count": 5,
   "metadata": {},
   "outputs": [
    {
     "name": "stdout",
     "output_type": "stream",
     "text": [
      "+--------------------+\n",
      "|             user_id|\n",
      "+--------------------+\n",
      "|rs3pq6wRmaSIADCIn...|\n",
      "|xS6kmkMXp0PRrFwkS...|\n",
      "|aNOSjqQFsrfcgmFtO...|\n",
      "|-9da1xk7zgnnfO1uT...|\n",
      "|PLjruA-EMskWfirBU...|\n",
      "|O-frog8VhICKAT0gr...|\n",
      "|7o473jeLWW-zgKN-Q...|\n",
      "|L1XxGWFJ3S7xBQCT8...|\n",
      "|D2ljL5ejuqpa4f8fn...|\n",
      "|CzkWUMIYDxUSetfCR...|\n",
      "|5avk-VCo_6Bx65ct1...|\n",
      "|oKWVVqPWVzq5s6nS4...|\n",
      "|e5kxYMksMVWApEJdO...|\n",
      "|f-6oae7TltlfJicUi...|\n",
      "|NL9jmu5jSkCdMM-i9...|\n",
      "|z6gjzFENiQf-K3lPy...|\n",
      "|Al2g2P9gt057Julh1...|\n",
      "|midS4e50ZmuOeGyNm...|\n",
      "|yTr8nlIjQCJWc0ZIC...|\n",
      "|yb0AdKzhYwQIlt47r...|\n",
      "+--------------------+\n",
      "only showing top 20 rows\n",
      "\n"
     ]
    }
   ],
   "source": [
    "data = spark.sql(\"SELECT DISTINCT user_id FROM business\")\n",
    "data.show()"
   ]
  },
  {
   "cell_type": "markdown",
   "metadata": {},
   "source": [
    "# Converting Encrypted Data "
   ]
  },
  {
   "cell_type": "markdown",
   "metadata": {},
   "source": [
    "The data column user_id and business_id is encrypted, so we must convert it into integer."
   ]
  },
  {
   "cell_type": "code",
   "execution_count": 6,
   "metadata": {},
   "outputs": [
    {
     "name": "stdout",
     "output_type": "stream",
     "text": [
      "+--------------------+------+\n",
      "|             user_id|userId|\n",
      "+--------------------+------+\n",
      "|---1lKK3aKOuomHnw...|     1|\n",
      "|---89pEy_h9PvHwcH...|     2|\n",
      "|---94vtJ_5o_nikEs...|     3|\n",
      "|---PLwSf5gKdIoVny...|     4|\n",
      "|---cu1hq55BP9DWVX...|     5|\n",
      "|---fhiwiwBYrvqhpX...|     6|\n",
      "|---udAKDsn0yQXmzb...|     7|\n",
      "|--0LlX_UcypHnxW-4...|     8|\n",
      "|--0RtXvcOIE4XbErY...|     9|\n",
      "|--0VhLFv2XfEKHL0Y...|    10|\n",
      "|--0WZ5gklOfbUIodJ...|    11|\n",
      "|--0kuuLmuYBe3Rmu0...|    12|\n",
      "|--0sXNBv6IizZXuV-...|    13|\n",
      "|--0zxhZTSLZ7w1hUD...|    14|\n",
      "|--104qdWvE99vaoIs...|    15|\n",
      "|--1UpCuUDJQbqiuFX...|    16|\n",
      "|--1av6NdbEbMiuBr7...|    17|\n",
      "|--1mPJZdSY9KluaBY...|    18|\n",
      "|--23ebARX_Thb82aj...|    19|\n",
      "|--26jc8nCJBy4-7r3...|    20|\n",
      "+--------------------+------+\n",
      "only showing top 20 rows\n",
      "\n"
     ]
    }
   ],
   "source": [
    "data.createOrReplaceTempView(\"newId\")\n",
    "new_user_id = spark.sql(\"SELECT user_id, ROW_NUMBER() OVER (ORDER BY user_id) AS userId FROM newId\")\n",
    "new_user_id.show()"
   ]
  },
  {
   "cell_type": "code",
   "execution_count": 7,
   "metadata": {},
   "outputs": [
    {
     "name": "stdout",
     "output_type": "stream",
     "text": [
      "+--------------------+----+-------------------+-----+--------------------+-----+--------------------+------+--------------------+--------------------+------+\n",
      "|         business_id|cool|               date|funny|           review_id|stars|                text|useful|             user_id|             user_id|userId|\n",
      "+--------------------+----+-------------------+-----+--------------------+-----+--------------------+------+--------------------+--------------------+------+\n",
      "|CHbbzfGr69CQV1fh6...|   0|2015-08-18 19:11:04|    3|bklQqMXHT-JYiVQdB...|  1.0|I took my motorcy...|     3|--CJT4d-S8UhwqHe0...|--CJT4d-S8UhwqHe0...|    89|\n",
      "|KG4dklrK6sGerhNri...|   0|2015-08-18 19:22:17|    0|5aq0aGO3LNcAIV2Rl...|  4.0|Jason was very he...|     0|--CJT4d-S8UhwqHe0...|--CJT4d-S8UhwqHe0...|    89|\n",
      "|pmrHuQiy25xKB86tb...|   0|2014-03-21 17:09:59|    1|a0r23pA6D4HDLb9P5...|  4.0|They ran out of c...|     0|-0Ji0nOyFe-4yo8BK...|-0Ji0nOyFe-4yo8BK...|   514|\n",
      "|QhwaGi1niDeVEHMRt...|   0|2012-07-06 03:43:34|    3|DfAjJ3KCimOdqplv4...|  2.0|This location cer...|     1|-0XPr1ilUAfp-yIXZ...|-0XPr1ilUAfp-yIXZ...|   606|\n",
      "|L772e6l2Yd0DJEyCB...|   0|2014-09-19 01:12:10|    0|TbU3S2kWmfajlVov3...|  4.0|Swung by this pla...|     1|-1KKYzibGPyUX-Mwk...|-1KKYzibGPyUX-Mwk...|   940|\n",
      "|sAS4fHDiK8A9a1wEA...|   0|2014-08-28 01:31:40|    3|AF7_icUaLQVgj7d29...|  1.0|Horrible business...|     5|-1zQA2f_syMAdA04P...|-1zQA2f_syMAdA04P...|  1192|\n",
      "|aNe8ofTYrealxqv7V...|   0|2016-07-29 19:44:01|    0|08j8zUlyJylKcJa_r...|  5.0|I came in today p...|     0|-1zQA2f_syMAdA04P...|-1zQA2f_syMAdA04P...|  1192|\n",
      "|xM85pGuYSvLTUEfm3...|   0|2018-02-07 18:59:50|    0|d1vPdEGTP75fS_bd2...|  5.0|Finding Mr. Sidel...|     1|-1zQA2f_syMAdA04P...|-1zQA2f_syMAdA04P...|  1192|\n",
      "|fuC3sui68QWg-rqld...|   0|2018-02-12 21:37:14|    0|QCQJC9kbCkhzTRosS...|  1.0|Very unhappy with...|     1|-1zQA2f_syMAdA04P...|-1zQA2f_syMAdA04P...|  1192|\n",
      "|5c-b0ALS_DyLvRCGr...|   0|2017-05-01 16:00:12|    0|_aY8ReBavQVGHhCh7...|  1.0|Einstein bagels i...|     0|-1zQA2f_syMAdA04P...|-1zQA2f_syMAdA04P...|  1192|\n",
      "|DyYS-JKXlW2PCr_Gt...|   0|2017-05-01 16:05:57|    0|y0BLDiU8nQi22t9OF...|  5.0|Great local pub. ...|     0|-1zQA2f_syMAdA04P...|-1zQA2f_syMAdA04P...|  1192|\n",
      "|HhVmDybpU7L50Kb5A...|   0|2014-07-09 03:02:59|    0|E5brqk7xXfvriiekH...|  5.0|What an amazing r...|     0|-2Pb5d2WBPtbyGT_b...|-2Pb5d2WBPtbyGT_b...|  1348|\n",
      "|xhOTMvzYDXN5cv-Fx...|   0|2017-08-24 14:58:37|    0|5NqD-sq9i5Dj32Ng0...|  5.0|I stumbled upon t...|     1|-2mPrKWc9UYdvTrOZ...|-2mPrKWc9UYdvTrOZ...|  1494|\n",
      "|RhEvP5flF6KoPriMH...|   1|2014-07-17 07:58:53|    1|BN8SurL8FUTrNmBXd...|  4.0|This place was aw...|     1|-3bsS2i9xqjNnIA1f...|-3bsS2i9xqjNnIA1f...|  1804|\n",
      "|q3dJQtwZQrrurNT-1...|   0|2014-07-15 08:41:22|    0|gRPKQOXBLMomasde6...|  1.0|This place was ok...|     2|-3bsS2i9xqjNnIA1f...|-3bsS2i9xqjNnIA1f...|  1804|\n",
      "|yNVcnSaMSrTmjJBMr...|   1|2007-03-27 20:22:15|    0|yegncED90TID9lW3G...|  3.0|I really recommen...|     2|-3i9bhfvrM3F1wsC9...|-3i9bhfvrM3F1wsC9...|  1859|\n",
      "|V9klA6JGT6Fz2UpVP...|   1|2007-08-20 17:16:42|    1|Pg-9rppIHr-F7G6gX...|  3.0|We got our buffet...|     2|-3i9bhfvrM3F1wsC9...|-3i9bhfvrM3F1wsC9...|  1859|\n",
      "|BLIJ-p5wYuAhw6Pp6...|   1|2016-01-01 05:28:50|    0|Stv98FmVlaABTHzSC...|  3.0|The fitness cente...|     0|-3i9bhfvrM3F1wsC9...|-3i9bhfvrM3F1wsC9...|  1859|\n",
      "|GtHu9uGXpn7Jg_Z7v...|   2|2016-01-01 05:34:49|    1|P1K77IxkrLC--nFkD...|  4.0|Loved their meatb...|     1|-3i9bhfvrM3F1wsC9...|-3i9bhfvrM3F1wsC9...|  1859|\n",
      "|ZGU2--DiLxf7enO3I...|   1|2016-11-18 22:01:33|    2|OHtulDl2XStxGqPeo...|  3.0|Nice full service...|     1|-3i9bhfvrM3F1wsC9...|-3i9bhfvrM3F1wsC9...|  1859|\n",
      "+--------------------+----+-------------------+-----+--------------------+-----+--------------------+------+--------------------+--------------------+------+\n",
      "only showing top 20 rows\n",
      "\n"
     ]
    }
   ],
   "source": [
    "df = df.join(new_user_id, df.user_id == new_user_id.user_id)\n",
    "df.show()"
   ]
  },
  {
   "cell_type": "code",
   "execution_count": 8,
   "metadata": {},
   "outputs": [
    {
     "name": "stdout",
     "output_type": "stream",
     "text": [
      "+--------------------+\n",
      "|         business_id|\n",
      "+--------------------+\n",
      "|f4mh1Y0rnvbJRfQ3j...|\n",
      "|cKwg6HFaLYXl7Ar0r...|\n",
      "|jcpgiXF0PCyS9hrvq...|\n",
      "|R_M4P9XetEM-aLE7e...|\n",
      "|DEBqmgxv2yhJ93LqG...|\n",
      "|Cml4Yt5cTx64cOMan...|\n",
      "|bo3SQVtErnMOqO6lk...|\n",
      "|Cl-xl1vTUwHeaGgBx...|\n",
      "|oIEmXWLtoh5blz-iw...|\n",
      "|Op2IR4FffXZ5KXYFn...|\n",
      "|yB5FMuc9Y3oyhsOmu...|\n",
      "|cEqOh78v1g1RCWHyu...|\n",
      "|lt8IW9Bpy9GMeKGxy...|\n",
      "|uC3qwaxsOkdJzpOc0...|\n",
      "|686oeWNsbc-aczplC...|\n",
      "|gPuxh3HNvoVt8aWVW...|\n",
      "|mA27CG2U3ytmkxIGV...|\n",
      "|x6qH9HXhzuKM03jcZ...|\n",
      "|74LU6K2ro5AQXKT0J...|\n",
      "|TdefcbsFAj6WXHwlG...|\n",
      "+--------------------+\n",
      "only showing top 20 rows\n",
      "\n"
     ]
    }
   ],
   "source": [
    "data2 = spark.sql(\"SELECT DISTINCT business_id FROM business\")\n",
    "data2.show()"
   ]
  },
  {
   "cell_type": "code",
   "execution_count": 10,
   "metadata": {},
   "outputs": [
    {
     "name": "stdout",
     "output_type": "stream",
     "text": [
      "+--------------------+----------+\n",
      "|         business_id|businessId|\n",
      "+--------------------+----------+\n",
      "|--1UhMGODdWsrMast...|         1|\n",
      "|--6MefnULPED_I942...|         2|\n",
      "|--7zmmkVg-IMGaXbu...|         3|\n",
      "|--8LPVSo5i0Oo61X0...|         4|\n",
      "|--9QQLMTbFzLJ_oT-...|         5|\n",
      "|--9e1ONYQuAa-CB_R...|         6|\n",
      "|--DaPTJW3-tB1vP-P...|         7|\n",
      "|--DdmeR16TRb3LsjG...|         8|\n",
      "|--EF5N7P70J_UYBTP...|         9|\n",
      "|--EX4rRznJrltyn-3...|        10|\n",
      "|--FBCX-N37CMYDfs7...|        11|\n",
      "|--FLdgM0GNpXVMn74...|        12|\n",
      "|--GM_ORV2cYS-h38D...|        13|\n",
      "|--Gc998IMjLn8yr-H...|        14|\n",
      "|--I7YYLada0tSLkOR...|        15|\n",
      "|--KCl2FvVQpvjzmZS...|        16|\n",
      "|--KQsXc-clkO7oHRq...|        17|\n",
      "|--Ni3oJ4VOqfOEu7S...|        18|\n",
      "|--Rsj71PBe31h5Ylj...|        19|\n",
      "|--S62v0QgkqQaVUhF...|        20|\n",
      "+--------------------+----------+\n",
      "only showing top 20 rows\n",
      "\n"
     ]
    }
   ],
   "source": [
    "data2.createOrReplaceTempView(\"newId2\")\n",
    "new_business_id = spark.sql(\"SELECT business_id, ROW_NUMBER() OVER (ORDER BY business_id) AS businessId FROM newId2\")\n",
    "new_business_id.show()\n"
   ]
  },
  {
   "cell_type": "code",
   "execution_count": 11,
   "metadata": {},
   "outputs": [
    {
     "name": "stdout",
     "output_type": "stream",
     "text": [
      "+--------------------+----+-------------------+-----+--------------------+-----+--------------------+------+--------------------+--------------------+-------+--------------------+----------+\n",
      "|         business_id|cool|               date|funny|           review_id|stars|                text|useful|             user_id|             user_id| userId|         business_id|businessId|\n",
      "+--------------------+----+-------------------+-----+--------------------+-----+--------------------+------+--------------------+--------------------+-------+--------------------+----------+\n",
      "|--9e1ONYQuAa-CB_R...|   4|2014-03-24 19:52:40|    0|fqyv4RdeKmHd6kW4M...|  5.0|WOW.\n",
      "\n",
      "I came to V...|     4|0y8ORuC2X1i1UF6SG...|0y8ORuC2X1i1UF6SG...|  50375|--9e1ONYQuAa-CB_R...|         6|\n",
      "|--9e1ONYQuAa-CB_R...|   0|2018-04-26 03:08:43|    0|iBzBKf0EnBxNNfCe9...|  5.0|We went here with...|     0|3qz_dfwbFwTQeDRzy...|3qz_dfwbFwTQeDRzy...| 123873|--9e1ONYQuAa-CB_R...|         6|\n",
      "|--9e1ONYQuAa-CB_R...|   0|2011-09-27 16:24:02|    0|pAq31fErj33YuS6PW...|  2.0|We had scheduled ...|     1|9spixZHaqC1JeN1ld...|9spixZHaqC1JeN1ld...| 278174|--9e1ONYQuAa-CB_R...|         6|\n",
      "|--9e1ONYQuAa-CB_R...|   0|2008-07-22 13:59:16|    0|CEP89TU2NBCPt0Htc...|  5.0|This restaurant i...|     1|A4GnBOU7ZCTcoQK4e...|A4GnBOU7ZCTcoQK4e...| 283084|--9e1ONYQuAa-CB_R...|         6|\n",
      "|--9e1ONYQuAa-CB_R...|   0|2012-06-01 22:40:29|    0|x58UezXkG2Z-YxYs4...|  4.0|Three words. De-l...|     0|FtUDjNLhVjlIoeFKm...|FtUDjNLhVjlIoeFKm...| 431625|--9e1ONYQuAa-CB_R...|         6|\n",
      "|--9e1ONYQuAa-CB_R...|   0|2014-01-06 19:26:01|    0|UFBG39zEiwJqmos2p...|  5.0|Recently had lunc...|     0|H0tfWQsGjEBuhXD4W...|H0tfWQsGjEBuhXD4W...| 460724|--9e1ONYQuAa-CB_R...|         6|\n",
      "|--9e1ONYQuAa-CB_R...|   1|2006-07-15 16:49:37|    0|d3-sC4eUvIdDzz6Kg...|  4.0|Don't get me wron...|     2|R0KVWeN9xR-F6j4z5...|R0KVWeN9xR-F6j4z5...| 716480|--9e1ONYQuAa-CB_R...|         6|\n",
      "|--9e1ONYQuAa-CB_R...|  10|2018-02-28 18:15:31|    6|ElUa5sDuKj0O9QE-J...|  4.0|The 20oz Porterho...|     9|XZaCs-Gs0SXdZgfG3...|XZaCs-Gs0SXdZgfG3...| 884420|--9e1ONYQuAa-CB_R...|         6|\n",
      "|--9e1ONYQuAa-CB_R...|   0|2016-12-10 19:10:03|    0|9O9AfDsnV8QIssJVN...|  5.0|Absolutely loved ...|     0|dSGINC_8KV6fxNjeQ...|dSGINC_8KV6fxNjeQ...|1060886|--9e1ONYQuAa-CB_R...|         6|\n",
      "|--9e1ONYQuAa-CB_R...|   0|2011-07-13 07:26:47|    0|KVacH9suT8a_b5UCk...|  3.0|Came back here wi...|     0|n9DJHwgYflQ_ms8gB...|n9DJHwgYflQ_ms8gB...|1309129|--9e1ONYQuAa-CB_R...|         6|\n",
      "|--9e1ONYQuAa-CB_R...|   0|2017-08-19 03:45:02|    0|lrfE83OES5R4N9ONc...|  5.0|Went here 08/11/1...|     0|ucXjnxiEKLUOEktHF...|ucXjnxiEKLUOEktHF...|1500052|--9e1ONYQuAa-CB_R...|         6|\n",
      "|--9e1ONYQuAa-CB_R...|   0|2007-08-13 21:43:20|    0|l6vwYPrwIyAWPsjjk...|  5.0|I blame my father...|     0|-7hnKm0I8detrDCgs...|-7hnKm0I8detrDCgs...|   3432|--9e1ONYQuAa-CB_R...|         6|\n",
      "|--9e1ONYQuAa-CB_R...|   2|2013-06-13 13:04:34|    3|qO-giyrBOUhY9lzYo...|  5.0|If you're lost yo...|     2|1rlB-SWvDU5TnDnym...|1rlB-SWvDU5TnDnym...|  73292|--9e1ONYQuAa-CB_R...|         6|\n",
      "|--9e1ONYQuAa-CB_R...|   0|2009-02-25 21:13:47|    0|vlLBaxWA2-SHjTnMA...|  4.0|What else can I s...|     0|KGcyC9KXloxW_6YMG...|KGcyC9KXloxW_6YMG...| 543660|--9e1ONYQuAa-CB_R...|         6|\n",
      "|--9e1ONYQuAa-CB_R...|   0|2010-10-09 19:40:02|    0|gmoE6LWdibnUAg07E...|  5.0|By FAR one of my ...|     0|MFaazTdvfJ_aa6coa...|MFaazTdvfJ_aa6coa...| 594236|--9e1ONYQuAa-CB_R...|         6|\n",
      "|--9e1ONYQuAa-CB_R...|   0|2013-07-18 22:55:45|    1|Tp6AJ7IFoCzVLNqGf...|  4.0|We ate a very qui...|     0|jHHRH62tCYNZnh85u...|jHHRH62tCYNZnh85u...|1210032|--9e1ONYQuAa-CB_R...|         6|\n",
      "|--9e1ONYQuAa-CB_R...|   2|2013-08-20 08:00:19|    1|hVT-qDVRF0rIXsL-F...|  3.0|This review is ac...|     3|oqTZC9WriodTCby6j...|oqTZC9WriodTCby6j...|1352147|--9e1ONYQuAa-CB_R...|         6|\n",
      "|--9e1ONYQuAa-CB_R...|   0|2018-08-13 18:30:24|    0|ulLsxJBrLZjbc8qPO...|  2.0|I have a high sta...|     0|5g9q0NUQ-72wzitIz...|5g9q0NUQ-72wzitIz...| 170942|--9e1ONYQuAa-CB_R...|         6|\n",
      "|--9e1ONYQuAa-CB_R...|   0|2017-03-01 16:19:14|    1|KsxkfD7ftQfY90RZV...|  2.0|I had better expe...|     1|9C5QkwIcxyE4SgR1E...|9C5QkwIcxyE4SgR1E...| 260633|--9e1ONYQuAa-CB_R...|         6|\n",
      "|--9e1ONYQuAa-CB_R...|   0|2013-12-19 23:22:47|    0|NQt645IJwa5ADM26U...|  5.0|we are a repeat c...|     0|TMqFvYbWqs8BnjLsE...|TMqFvYbWqs8BnjLsE...| 776993|--9e1ONYQuAa-CB_R...|         6|\n",
      "+--------------------+----+-------------------+-----+--------------------+-----+--------------------+------+--------------------+--------------------+-------+--------------------+----------+\n",
      "only showing top 20 rows\n",
      "\n"
     ]
    }
   ],
   "source": [
    "df = df.join(new_business_id, df.business_id == new_business_id.business_id)\n",
    "df.show()"
   ]
  },
  {
   "cell_type": "code",
   "execution_count": 12,
   "metadata": {},
   "outputs": [],
   "source": [
    "query1 = df.select('userId', 'businessId', 'stars')"
   ]
  },
  {
   "cell_type": "code",
   "execution_count": 13,
   "metadata": {},
   "outputs": [
    {
     "name": "stdout",
     "output_type": "stream",
     "text": [
      "+-------+----------+-----+\n",
      "| userId|businessId|stars|\n",
      "+-------+----------+-----+\n",
      "|  50375|         6|  5.0|\n",
      "| 123873|         6|  5.0|\n",
      "| 278174|         6|  2.0|\n",
      "| 283084|         6|  5.0|\n",
      "| 431625|         6|  4.0|\n",
      "| 460724|         6|  5.0|\n",
      "| 716480|         6|  4.0|\n",
      "| 884420|         6|  4.0|\n",
      "|1060886|         6|  5.0|\n",
      "|1309129|         6|  3.0|\n",
      "|1500052|         6|  5.0|\n",
      "|   3432|         6|  5.0|\n",
      "|  73292|         6|  5.0|\n",
      "| 543660|         6|  4.0|\n",
      "| 594236|         6|  5.0|\n",
      "|1210032|         6|  4.0|\n",
      "|1352147|         6|  3.0|\n",
      "| 170942|         6|  2.0|\n",
      "| 260633|         6|  2.0|\n",
      "| 776993|         6|  5.0|\n",
      "+-------+----------+-----+\n",
      "only showing top 20 rows\n",
      "\n"
     ]
    }
   ],
   "source": [
    "query1.show()"
   ]
  },
  {
   "cell_type": "code",
   "execution_count": 14,
   "metadata": {},
   "outputs": [],
   "source": [
    "# Convert to Pandas\n",
    "import pandas as pd\n",
    "query1Pandas = query1.toPandas()"
   ]
  },
  {
   "cell_type": "code",
   "execution_count": 15,
   "metadata": {},
   "outputs": [],
   "source": [
    "# Save to single CSV\n",
    "query1Pandas.to_csv(\"C:/opt/FP-Big-Data/Dataset/business_ratings.csv\", index=False)"
   ]
  },
  {
   "cell_type": "code",
   "execution_count": null,
   "metadata": {},
   "outputs": [],
   "source": []
  }
 ],
 "metadata": {
  "kernelspec": {
   "display_name": "Python 3",
   "language": "python",
   "name": "python3"
  },
  "language_info": {
   "codemirror_mode": {
    "name": "ipython",
    "version": 3
   },
   "file_extension": ".py",
   "mimetype": "text/x-python",
   "name": "python",
   "nbconvert_exporter": "python",
   "pygments_lexer": "ipython3",
   "version": "3.7.1"
  }
 },
 "nbformat": 4,
 "nbformat_minor": 2
}
